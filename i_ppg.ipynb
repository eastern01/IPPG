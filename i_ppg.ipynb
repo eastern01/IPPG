{
 "cells": [
  {
   "cell_type": "markdown",
   "id": "8f4f2372",
   "metadata": {},
   "source": [
    "# Import"
   ]
  },
  {
   "cell_type": "code",
   "execution_count": 25,
   "id": "d96e078f",
   "metadata": {},
   "outputs": [],
   "source": [
    "import cv2\n",
    "import numpy as np\n",
    "import time\n",
    "import matplotlib.pyplot as plt\n",
    "\n",
    "from skimage.io import imread, imshow\n",
    "\n",
    "from skimage import img_as_ubyte, img_as_float\n",
    "from scipy.stats import norm\n",
    "\n",
    "from IPython.display import clear_output\n",
    "face_cascade = cv2.CascadeClassifier('C:\\\\Users\\\\swast\\\\Jupyter Codes\\\\models\\\\haarcascade_frontalface_default.xml')\n"
   ]
  },
  {
   "cell_type": "code",
   "execution_count": 26,
   "id": "ed139920",
   "metadata": {},
   "outputs": [
    {
     "data": {
      "text/plain": [
       "False"
      ]
     },
     "execution_count": 26,
     "metadata": {},
     "output_type": "execute_result"
    }
   ],
   "source": [
    "face_cascade.empty()"
   ]
  },
  {
   "cell_type": "markdown",
   "id": "d82fe4db",
   "metadata": {},
   "source": [
    "# Save Frames From Video"
   ]
  },
  {
   "cell_type": "code",
   "execution_count": 1,
   "id": "6733114c",
   "metadata": {},
   "outputs": [],
   "source": [
    "c = int(input(\"Enter Webcam no: \"))\n",
    "\n",
    "\n",
    "capture=cv2.VideoCapture(c)\n",
    "\n",
    "cod = cv2.VideoWriter_fourcc(*'XVID')\n",
    "out = cv2.VideoWriter('out.avi',cod,20.0,(640,480))\n",
    "f = 0\n",
    "img = []\n",
    "drtn = 0\n",
    "while True:\n",
    "    if(f == 0):\n",
    "        time.sleep(2)\n",
    "        start = time.time()\n",
    "    ret,color_img =capture.read()\n",
    "    cv2.imshow('Frames',color_img)\n",
    "\n",
    "    gray_img = cv2.cvtColor(color_img, cv2.COLOR_BGR2GRAY)\n",
    "    \n",
    "    faces = face_cascade.detectMultiScale(gray_img)\n",
    "    \n",
    "    if(len(faces) >1):\n",
    "        continue\n",
    "        \n",
    "    for (x,y,w,h) in faces:\n",
    "        face_gray = gray_img[y:y+h, x:x+h]\n",
    "        face_color = color_img[y:y+h, x:x+w]\n",
    "        \n",
    "        h = h//3 - 15\n",
    "        x += 15\n",
    "        w -= 38\n",
    "        img = color_img[y:y+h,x:x+w]\n",
    "    if(len(img) == 0):\n",
    "        continue\n",
    "    cv2.imshow('img',img)\n",
    "\n",
    "    cv2.imwrite('Frame'+str(f)+'.jpg', img)\n",
    "    f += 1\n",
    "\n",
    "    if cv2.waitKey(1) & 0xFF == ord('q'):\n",
    "        drtn = (time.time() - start)\n",
    "        break\n",
    "        \n",
    "capture.release()\n",
    "cv2.destroyAllWindows()"
   ]
  },
  {
   "cell_type": "markdown",
   "id": "e1f0cb3b",
   "metadata": {},
   "source": [
    "# Color Average"
   ]
  },
  {
   "cell_type": "code",
   "execution_count": 2,
   "id": "c5522584",
   "metadata": {},
   "outputs": [],
   "source": [
    "import os\n",
    "bgr = np.zeros((f,4))\n",
    "R = []\n",
    "G = []\n",
    "B = []\n",
    "for k in range(f):\n",
    "    img = cv2.imread('C:\\\\Users\\\\swast\\\\Jupyter Codes\\\\aditya3\\\\frame'+str(k)+'.jpg')  #Start from number 1\n",
    "    print('frame'+str(k)+'.jpg')\n",
    "    clear_output(wait=True)\n",
    "#     try:\n",
    "#         os.remove('C:\\\\Users\\\\swast\\\\Jupyter Codes\\\\frame'+str(k)+'.jpg')\n",
    "#     except:\n",
    "#         break\n",
    "            \n",
    "    h, w, c = img.shape #height, width, channnel\n",
    "\n",
    "    #Initialize\n",
    "    l=0\n",
    "    b_ave=0; g_ave=0; r_ave=0\n",
    "\n",
    "    rCh = img[:,:,0]\n",
    "    gCh = img[:,:,1]\n",
    "    bCh = img[:,:,2]\n",
    "    \n",
    "    R.append(np.mean(rCh))\n",
    "    G.append(np.mean(gCh))\n",
    "    B.append(np.mean(bCh))"
   ]
  },
  {
   "cell_type": "markdown",
   "id": "5f5fa515",
   "metadata": {},
   "source": [
    "# Varience"
   ]
  },
  {
   "cell_type": "code",
   "execution_count": 3,
   "id": "72e46764",
   "metadata": {},
   "outputs": [],
   "source": [
    "\n",
    "nR = (R - np.mean(R)) #/np.var(R)\n",
    "nG = (G - np.mean(G)) #/np.var(G)\n",
    "nB = (B - np.mean(B)) #/np.var(B)\n",
    "\n",
    "plt.figure()\n",
    "plt.subplot(3,1,1)\n",
    "plt.plot(nR,color='red')\n",
    "plt.subplot(3,1,2)\n",
    "plt.plot(nG,color= 'Green')\n",
    "plt.subplot(3,1,3)\n",
    "plt.plot(nB, color='blue')"
   ]
  },
  {
   "cell_type": "markdown",
   "id": "6b18082a",
   "metadata": {},
   "source": [
    "# Signal Detrend & Plot"
   ]
  },
  {
   "cell_type": "code",
   "execution_count": 30,
   "id": "0e607506",
   "metadata": {},
   "outputs": [],
   "source": [
    "from scipy import signal\n",
    "\n",
    "plt.figure()\n",
    "plt.subplot(3,1,1)\n",
    "plt.plot(signal.detrend(nR),color='red')\n",
    "plt.subplot(3,1,2)\n",
    "plt.plot(signal.detrend(nG),color= 'Green')\n",
    "plt.subplot(3,1,3)\n",
    "plt.plot(signal.detrend(nB), color='blue')"
   ]
  },
  {
   "cell_type": "markdown",
   "id": "8817f713",
   "metadata": {},
   "source": [
    "# Saving detrend values"
   ]
  },
  {
   "cell_type": "code",
   "execution_count": 207,
   "id": "8039ecab",
   "metadata": {},
   "outputs": [],
   "source": [
    "nR = signal.detrend(nR)\n",
    "nG = signal.detrend(nG)\n",
    "nB = signal.detrend(nB)"
   ]
  },
  {
   "cell_type": "code",
   "execution_count": 29,
   "id": "0d283ac3",
   "metadata": {},
   "outputs": [],
   "source": [
    "import numpy as np\n",
    "import matplotlib.pyplot as plt\n",
    "import random\n",
    "\n",
    "def running_mean(x, N):\n",
    "    cumsum = np.cumsum(np.insert(x, 0, 0)) \n",
    "    return (cumsum[N:] - cumsum[:-N]) / float(N)\n",
    "\n",
    "x = nR\n",
    "y1 = running_mean(x, 10)\n",
    "plt.subplot(1,2,1)\n",
    "plt.plot(x)\n",
    "plt.subplot(1,2,2)\n",
    "plt.plot(y1,'r')"
   ]
  },
  {
   "cell_type": "markdown",
   "id": "944f9e35",
   "metadata": {},
   "source": [
    "# ICA"
   ]
  },
  {
   "cell_type": "code",
   "execution_count": 209,
   "id": "5048bce1",
   "metadata": {},
   "outputs": [],
   "source": [
    "def center(x):\n",
    "    mean = np.mean(x, axis=1, keepdims=True)\n",
    "    centered =  x - mean\n",
    "    return centered, mean\n",
    "\n",
    "def covariance(x):\n",
    "    mean = np.mean(x, axis=1, keepdims=True)\n",
    "    n = np.shape(x)[1] - 1\n",
    "    m = x - mean\n",
    "\n",
    "    return (m.dot(m.T))/n\n",
    "\n",
    "def whiten(x):\n",
    "    # Calculate the covariance matrix\n",
    "    coVarM = covariance(X)\n",
    "\n",
    "    # Single value decoposition\n",
    "    U, S, V = np.linalg.svd(coVarM)\n",
    "\n",
    "    # Calculate diagonal matrix of eigenvalues\n",
    "    d = np.diag(1.0 / np.sqrt(S))\n",
    "\n",
    "    # Calculate whitening matrix\n",
    "    whiteM = np.dot(U, np.dot(d, U.T))\n",
    "\n",
    "    # Project onto whitening matrix\n",
    "    Xw = np.dot(whiteM, X)\n",
    "\n",
    "    return Xw, whiteM\n",
    "\n",
    "def fastIca(signals,  alpha = 1, thresh=1e-8, iterations=5000):\n",
    "    m, n = signals.shape\n",
    "\n",
    "    # Initialize random weights\n",
    "    W = np.random.rand(m, m)\n",
    "\n",
    "    for c in range(m):\n",
    "            w = W[c, :].copy().reshape(m, 1)\n",
    "            w = w / np.sqrt((w ** 2).sum())\n",
    "\n",
    "            i = 0\n",
    "            lim = 100\n",
    "            while ((lim > thresh) & (i < iterations)):\n",
    "\n",
    "                # Dot product of weight and signal\n",
    "                ws = np.dot(w.T, signals)\n",
    "\n",
    "                # Pass w*s into contrast function g\n",
    "                wg = np.tanh(ws * alpha).T\n",
    "\n",
    "                # Pass w*s into g prime\n",
    "                wg_ = (1 - np.square(np.tanh(ws))) * alpha\n",
    "\n",
    "                # Update weights\n",
    "                wNew = (signals * wg.T).mean(axis=1) - wg_.mean() * w.squeeze()\n",
    "\n",
    "                # Decorrelate weights              \n",
    "                wNew = wNew - np.dot(np.dot(wNew, W[:c].T), W[:c])\n",
    "                wNew = wNew / np.sqrt((wNew ** 2).sum())\n",
    "\n",
    "                # Calculate limit condition\n",
    "                lim = np.abs(np.abs((wNew * w).sum()) - 1)\n",
    "\n",
    "                # Update weights\n",
    "                w = wNew\n",
    "\n",
    "                # Update counter\n",
    "                i += 1\n",
    "\n",
    "            W[c, :] = w.T\n",
    "    return W"
   ]
  },
  {
   "cell_type": "markdown",
   "id": "e19e17b6",
   "metadata": {},
   "source": [
    "# Preprocessing"
   ]
  },
  {
   "cell_type": "code",
   "execution_count": 210,
   "id": "2ebb75bb",
   "metadata": {},
   "outputs": [],
   "source": [
    "X = (np.c_[nR, nG, nB]).T"
   ]
  },
  {
   "cell_type": "code",
   "execution_count": 28,
   "id": "2e4c853b",
   "metadata": {},
   "outputs": [],
   "source": [
    "# Center signals\n",
    "Xc, meanX = center(X)\n",
    "\n",
    "# Whiten mixed signals\n",
    "Xw, whiteM = whiten(Xc)\n",
    "\n",
    "# Check if covariance of whitened matrix equals identity matrix\n",
    "print(np.round(covariance(Xw)))"
   ]
  },
  {
   "cell_type": "markdown",
   "id": "16f34e1c",
   "metadata": {},
   "source": [
    "# Running ICA"
   ]
  },
  {
   "cell_type": "code",
   "execution_count": 212,
   "id": "b9a82ca2",
   "metadata": {},
   "outputs": [],
   "source": [
    "W = fastIca(Xw,  alpha=1)\n",
    "\n",
    "#Un-mix signals using\n",
    "unMixed = Xw.T.dot(W.T)\n",
    "\n",
    "# Subtract mean\n",
    "unMixed = (unMixed.T - meanX).T"
   ]
  },
  {
   "cell_type": "markdown",
   "id": "ddf25a3c",
   "metadata": {},
   "source": [
    "# Plotting Signals"
   ]
  },
  {
   "cell_type": "code",
   "execution_count": 27,
   "id": "f5cfa946",
   "metadata": {},
   "outputs": [],
   "source": [
    "\n",
    "colors = ['red', 'green', 'blue']\n",
    "fig, ax = plt.subplots(1, 1, figsize=[18, 5])\n",
    "for i in range(3):\n",
    "    ax.plot(X[i], lw = 2, color = colors[i])\n",
    "ax.tick_params(labelsize=12)\n",
    "ax.set_title('mixed signals', fontsize=25)\n",
    "# ax.set_xlim(0, 10)\n",
    "\n",
    "fig, ax = plt.subplots(1, 1, figsize=[18, 5],)\n",
    "for i in range(3):\n",
    "    ax.plot(unMixed.T[i], lw = 2, color = colors[i])\n",
    "ax.set_ylabel(\"Amplitude\", fontsize = 10)\n",
    "ax.set_xlabel('Sample number', fontsize=20)\n",
    "ax.set_title('Recovered signals', fontsize=25)\n",
    "# ax.set_xlim(0, 100)\n",
    "\n",
    "plt.show()"
   ]
  },
  {
   "cell_type": "markdown",
   "id": "e7f80cd9",
   "metadata": {},
   "source": [
    "# FFT"
   ]
  },
  {
   "cell_type": "markdown",
   "id": "50a72d31",
   "metadata": {},
   "source": [
    "## Green"
   ]
  },
  {
   "cell_type": "code",
   "execution_count": 26,
   "id": "ba5ccb57",
   "metadata": {},
   "outputs": [],
   "source": [
    "from scipy.fftpack import fft\n",
    "# Number of samples\n",
    "N = f\n",
    "FPS = f//drtn\n",
    "if(FPS == 0):\n",
    "    FPS = 1\n",
    "\n",
    "sig = unMixed[:,1]\n",
    "xf_g = FPS * (np.arange(int(N/2))/N)\n",
    "# xf = FPS * np.linspace(0,drtn,N//2)\n",
    "yf = np.abs(fft(sig))\n",
    "yf_g = (1/FPS)* yf[range(int(int(N)/2))]\n",
    "\n",
    "fig, ax = plt.subplots()\n",
    "ax.plot(xf_g, yf_g, color = 'green')\n",
    "ax.set_xlabel(\"frequencies in Hz\")\n",
    "ax.set_ylabel(\"Amplitude\")\n",
    "ax.set_title(\"FFT of Green channel\")\n",
    "plt.show()"
   ]
  },
  {
   "cell_type": "markdown",
   "id": "e1688abe",
   "metadata": {},
   "source": [
    "## Blue"
   ]
  },
  {
   "cell_type": "code",
   "execution_count": 25,
   "id": "29c8017e",
   "metadata": {},
   "outputs": [],
   "source": [
    "from scipy.fftpack import fft\n",
    "\n",
    "# Number of samples\n",
    "N = f\n",
    "FPS = f//drtn\n",
    "if(FPS == 0):\n",
    "    FPS = 1\n",
    "\n",
    "sig = unMixed[:,2]\n",
    "xf_b = (FPS) * (np.arange(int(N/2))/N)\n",
    "# xf = FPS * np.linspace(0,drtn, N//2)\n",
    "yf = np.abs(fft(sig))\n",
    "yf_b = (1/FPS)* yf[range(int(int(N)/2))]\n",
    "\n",
    "fig, ax = plt.subplots()\n",
    "ax.plot(xf_b, yf_b, color = 'blue')\n",
    "ax.set_title(\"FFT of blue channel\")\n",
    "ax.set_xlabel(\"frequencies in Hz\")\n",
    "ax.set_ylabel(\"Amplitude\")\n",
    "plt.show()"
   ]
  },
  {
   "cell_type": "markdown",
   "id": "9d7bd3f0",
   "metadata": {},
   "source": [
    "## Red"
   ]
  },
  {
   "cell_type": "code",
   "execution_count": 24,
   "id": "3b141229",
   "metadata": {},
   "outputs": [],
   "source": [
    "from scipy.fftpack import fft\n",
    "\n",
    "# Number of samples\n",
    "N = f\n",
    "FPS = f//drtn\n",
    "if(FPS == 0):\n",
    "    FPS = 1\n",
    "\n",
    "sig = unMixed[:,0]\n",
    "xf_r = FPS * (np.arange(int(N/2))/N)\n",
    "yf = np.abs(fft(sig))\n",
    "yf_r = (1/FPS)* yf[range(int(int(N)/2))]\n",
    "\n",
    "fig, ax = plt.subplots()\n",
    "ax.plot(xf_r, yf_r, color = 'red')\n",
    "ax.set_title(\"FFT of red channel\")\n",
    "ax.set_xlabel(\"frequencies in Hz\")\n",
    "ax.set_ylabel(\"Amplitude\")\n",
    "plt.show()"
   ]
  },
  {
   "cell_type": "markdown",
   "id": "fb9b750e",
   "metadata": {},
   "source": [
    "# FIR Filter"
   ]
  },
  {
   "cell_type": "code",
   "execution_count": 217,
   "id": "65f6d2a6",
   "metadata": {},
   "outputs": [],
   "source": [
    "from scipy.signal import butter, lfilter\n",
    "\n",
    "def butter_bandpass(lowcut, highcut, fs, order):\n",
    "    return butter(order, [lowcut, highcut], fs=fs, btype='band')\n",
    "\n",
    "def butter_bandpass_filter(data, lowcut, highcut, fs, order):\n",
    "    b, a = butter_bandpass(lowcut, highcut, fs, order=order)\n",
    "    y = lfilter(b, a, data)\n",
    "    return y\n",
    "\n",
    "def fir_filter(xf,yf,c):\n",
    "    if __name__ == \"__main__\":\n",
    "        import numpy as np\n",
    "        import matplotlib.pyplot as plt\n",
    "        from scipy.signal import freqz\n",
    "\n",
    "#         Sample rate and desired cutoff frequencies (in Hz).\n",
    "        fs = 12\n",
    "        lowcut =0.1\n",
    "        highcut = 5\n",
    "\n",
    "#         Filter a noisy signal.\n",
    "        f0 =highcut - lowcut\n",
    "        x = yf\n",
    "\n",
    "        y = butter_bandpass_filter(x, lowcut, highcut, fs, order=6)\n",
    "        ff = plt.figure()\n",
    "        ff.set_figwidth(26)\n",
    "        ff.set_figheight(6)\n",
    "        plt.plot(xf, y,lw = 4, label='Filtered signal in Hz', color = c)\n",
    "        plt.xlabel('Frequencies')\n",
    "        plt.grid(True)\n",
    "        plt.legend(loc='upper right')\n",
    "        plt.show()\n",
    "#         return x,y"
   ]
  },
  {
   "cell_type": "code",
   "execution_count": 23,
   "id": "2af58778",
   "metadata": {},
   "outputs": [],
   "source": [
    "colors = ['red','blue','green']\n",
    "ent = np.searchsorted(xf_r, 0.5)\n",
    "fir_filter(xf_r[ent:],yf_r[ent:],colors[0])\n",
    "fir_filter(xf_b[ent:],yf_b[ent:],colors[1])\n",
    "fir_filter(xf_g[ent:],yf_g[ent:],colors[2])"
   ]
  },
  {
   "cell_type": "code",
   "execution_count": 22,
   "id": "ae108ba7",
   "metadata": {},
   "outputs": [],
   "source": [
    "colors = ['red','blue','green']\n",
    "fir_filter(xf_r,yf_r,colors[0])\n",
    "fir_filter(xf_b,yf_b,colors[1])\n",
    "fir_filter(xf_g,yf_g,colors[2])"
   ]
  },
  {
   "cell_type": "code",
   "execution_count": null,
   "id": "240fb61b",
   "metadata": {},
   "outputs": [],
   "source": []
  },
  {
   "cell_type": "markdown",
   "id": "b61a9b79",
   "metadata": {},
   "source": [
    "# RR"
   ]
  },
  {
   "cell_type": "code",
   "execution_count": 4,
   "id": "37bbdbf2",
   "metadata": {
    "scrolled": true
   },
   "outputs": [],
   "source": [
    "from scipy.signal import butter, lfilter\n",
    "\n",
    "def butter_bandpass(lowcut, highcut, fs, order):\n",
    "    return butter(order, [lowcut, highcut], fs=fs, btype='band')\n",
    "\n",
    "def butter_bandpass_filter(data, lowcut, highcut, fs, order):\n",
    "    b, a = butter_bandpass(lowcut, highcut, fs, order=order)\n",
    "    y = lfilter(b, a, data)\n",
    "    return y\n",
    "\n",
    "\n",
    "if __name__ == \"__main__\":\n",
    "    import numpy as np\n",
    "    import matplotlib.pyplot as plt\n",
    "    from scipy.signal import freqz\n",
    "\n",
    "#         Sample rate and desired cutoff frequencies (in Hz).\n",
    "    fs = 12\n",
    "    lowcut =0.5\n",
    "    highcut = 5\n",
    "\n",
    "#         Filter a noisy signal.\n",
    "    f0 =highcut - lowcut\n",
    "\n",
    "    y = butter_bandpass_filter(yf_b[ent:], lowcut, highcut, fs, order=6)\n",
    "    ff = plt.figure()\n",
    "    ff.set_figwidth(26)\n",
    "    ff.set_figheight(6)\n",
    "    plt.plot(xf_b[ent:], y,lw = 4, label='Filtered signal in Hz', color = 'blue')\n",
    "    plt.xlabel('Frequencies')\n",
    "    plt.grid(True)\n",
    "    plt.legend(loc='upper right')\n",
    "    plt.show()\n"
   ]
  },
  {
   "cell_type": "code",
   "execution_count": 5,
   "id": "5ac2b040",
   "metadata": {},
   "outputs": [],
   "source": [
    "import pandas as pd\n",
    "\n",
    "df = pd.read_csv('C:/Users/swast/Jupyter Codes/swastik/swastik.txt', sep = ('\\t'))\n",
    "df"
   ]
  },
  {
   "cell_type": "markdown",
   "id": "89f520fc",
   "metadata": {},
   "source": [
    "### additional"
   ]
  },
  {
   "cell_type": "code",
   "execution_count": 223,
   "id": "7c81f891",
   "metadata": {},
   "outputs": [],
   "source": [
    "ppg1 = y\n",
    "#ppg1 = np.array(df['CH1'].tolist())[:574]\n",
    "resp1 = np.array(df['CH2'].tolist())[:len(ppg1)]\n",
    "t = np.array(df['sec'].tolist())[:len(ppg1)]"
   ]
  },
  {
   "cell_type": "code",
   "execution_count": 224,
   "id": "eb6ebeb6",
   "metadata": {},
   "outputs": [],
   "source": [
    "from scipy import signal\n",
    "import time\n",
    "from PyEMD import EEMD\n",
    "from vmdpy import VMD\n",
    "from scipy.stats import kurtosis\n",
    "from scipy.fftpack import fft, fftfreq"
   ]
  },
  {
   "cell_type": "code",
   "execution_count": 225,
   "id": "bf4a27d2",
   "metadata": {},
   "outputs": [
    {
     "data": {
      "text/plain": [
       "13"
      ]
     },
     "execution_count": 225,
     "metadata": {},
     "output_type": "execute_result"
    }
   ],
   "source": [
    "f//drtn"
   ]
  },
  {
   "cell_type": "code",
   "execution_count": 226,
   "id": "de243784",
   "metadata": {},
   "outputs": [
    {
     "data": {
      "text/plain": [
       "956"
      ]
     },
     "execution_count": 226,
     "metadata": {},
     "output_type": "execute_result"
    }
   ],
   "source": [
    "len(ppg1)"
   ]
  },
  {
   "cell_type": "code",
   "execution_count": 6,
   "id": "39a3b7fb",
   "metadata": {},
   "outputs": [],
   "source": [
    "plt.figure(figsize=(15,4))\n",
    "\n",
    "plt.subplot(1,2,1)\n",
    "#plt.xlim(0.05,3)\n",
    "plt.plot(t,resp1[:len(ppg1)], 'b')\n",
    "plt.plot(t,ppg1, 'r')\n",
    "plt.grid()\n",
    "plt.title('Filtered Signal')\n"
   ]
  },
  {
   "cell_type": "code",
   "execution_count": 229,
   "id": "3216b1eb",
   "metadata": {},
   "outputs": [],
   "source": [
    "n = len(ppg1)\n",
    "#f_s= f//drtn\n",
    "f_s=125\n",
    "freqs = fftfreq(len(resp1)) * f_s\n",
    "fft_ppg = np.abs(fft(ppg1, n))\n",
    "fft_resp = np.abs(fft(resp1, n))"
   ]
  },
  {
   "cell_type": "code",
   "execution_count": 7,
   "id": "34172e6d",
   "metadata": {},
   "outputs": [],
   "source": [
    "plt.subplot(1,2,2)\n",
    "plt.plot(freqs[:len(fft_resp)], fft_resp, 'b')\n",
    "plt.plot(freqs[:len(fft_ppg)], fft_ppg, 'g')\n",
    "plt.xlim(0.05,10)\n",
    "plt.grid()\n",
    "plt.title('Filtered Signal')"
   ]
  },
  {
   "cell_type": "code",
   "execution_count": 231,
   "id": "5cc12e8d",
   "metadata": {},
   "outputs": [],
   "source": [
    "fs = 125\n",
    "sos_resp = signal.butter(4, [0.15, 0.65], 'bandpass', output='sos', fs=fs)\n",
    "\n",
    "filt_resp = signal.sosfiltfilt(sos_resp, resp1)\n",
    "N = len(ppg1)\n",
    "ff_filtresp = np.abs(fft(filt_resp,N))\n",
    "freqs = fftfreq(len(filt_resp)) * fs"
   ]
  },
  {
   "cell_type": "code",
   "execution_count": 8,
   "id": "5aa0ff47",
   "metadata": {},
   "outputs": [],
   "source": [
    "peaks_index,_ = signal.find_peaks(ff_filtresp[:60])\n",
    "peaks = ff_filtresp[peaks_index]\n",
    "peak_freq =freqs[peaks_index]\n",
    "print(f'Peaks: {peaks}')\n",
    "print(f'Frequency values at peaks: {peak_freq}')"
   ]
  },
  {
   "cell_type": "code",
   "execution_count": 233,
   "id": "135ba81c",
   "metadata": {},
   "outputs": [],
   "source": [
    "f_s= f//drtn\n",
    "sos_ppg = signal.butter(4, [0.15, 0.65], 'bandpass', output='sos', fs=f_s)\n",
    "filt_ppg = signal.sosfiltfilt(sos_ppg, ppg1)\n",
    "ff_filtppg = np.abs(fft(filt_ppg,N))"
   ]
  },
  {
   "cell_type": "code",
   "execution_count": 9,
   "id": "f98d0f38",
   "metadata": {},
   "outputs": [],
   "source": [
    "b = time.time()\n",
    "eemd=EEMD()\n",
    "IMFs = eemd(filt_ppg)\n",
    "imfNo  = IMFs.shape[0]\n",
    "print(\"Total Number of IMFs = \" + str(imfNo))\n",
    "e = time.time()\n",
    "print(\"total time for eemd: \", (e-b))\n",
    "imfs, res = IMFs[:-1], IMFs[-1]\n",
    "# vis = Visualisation()\n",
    "# vis.plot_imfs(imfs=imfs, residue=res, t=t[0:window_size], include_residue=True)\n",
    "# vis.show()\n",
    "\n",
    "cnt = 0"
   ]
  },
  {
   "cell_type": "code",
   "execution_count": 10,
   "id": "34073d6b",
   "metadata": {},
   "outputs": [],
   "source": [
    "kurto_result_eemd = []\n",
    "plt.figure(figsize=(10, 30)) \n",
    "plt.subplots_adjust(hspace=0.4)\n",
    "cnt = 0\n",
    "for i in imfs:\n",
    "    kurto = kurtosis(i)\n",
    "    kurto_result_eemd.append(kurto)\n",
    "    \n",
    "    plt.subplot(len(imfs), 1, cnt+1)\n",
    "    plt.suptitle(\"Frq response of EEMD, Resp & PPG\",y=0.9)\n",
    "    plt.plot(freqs[0:30],100*np.abs(fft(i,N))[:30],'k')\n",
    "    plt.plot(freqs[0:30],np.abs(ff_filtresp)[:30],'b')\n",
    "    plt.plot(freqs[0:30],np.abs(ff_filtppg)[:30],'g')\n",
    "    plt.ylabel(\"IMF\"+str(cnt))\n",
    "    plt.legend(['EEMD', 'Resp', 'PPG'], loc='best')\n",
    "    plt.title(f'Kurtosis: {kurto}')\n",
    "    plt.xlim(0,0.65)\n",
    "    plt.grid()\n",
    "    #plt.savefig(os.path.join(result, 'IMFs of EEMD.jpg'))\n",
    "    cnt += 1\n",
    "\n",
    "min_kurto_index = kurto_result_eemd.index(min(kurto_result_eemd))\n",
    "print(f\"\\nIndex of minimum kurtosis is {min_kurto_index} & it's kurtosis value is {min(kurto_result_eemd)}\")\n"
   ]
  },
  {
   "cell_type": "code",
   "execution_count": 11,
   "id": "c11cfe2d",
   "metadata": {},
   "outputs": [],
   "source": [
    "Vmd_Feature_sig = imfs[8]\n",
    "ff_Vmd_Feature_sig=np.abs(fft(Vmd_Feature_sig,N))\n",
    "\n",
    "peaks_index,_ = signal.find_peaks(ff_Vmd_Feature_sig[0:60])\n",
    "peaks = ff_Vmd_Feature_sig[peaks_index]\n",
    "max_peak_RR = max(peaks)\n",
    "index = np.where(peaks==max_peak_RR)\n",
    "max_peak_index = peaks_index[index]\n",
    "\n",
    "# find freqs from resp1 signal\n",
    "freqs = fftfreq(len(resp1)) * fs\n",
    "RR_freq=freqs[max_peak_index]\n",
    "print(\"RR frequency is = \"+str(RR_freq) +\"Hz   and energy is = \"+str(max_peak_RR) )"
   ]
  },
  {
   "cell_type": "code",
   "execution_count": 12,
   "id": "e7bac340",
   "metadata": {},
   "outputs": [],
   "source": [
    "f_s"
   ]
  },
  {
   "cell_type": "code",
   "execution_count": 21,
   "id": "b71ab692",
   "metadata": {},
   "outputs": [],
   "source": [
    "eemd=EEMD()\n",
    "IMFs = eemd(ppg1)\n",
    "imfNo  = IMFs.shape[0]\n",
    "print(\"Total Number of IMFs = \" + str(imfNo))\n",
    "imfs, res = IMFs[:-1], IMFs[-1]"
   ]
  },
  {
   "cell_type": "code",
   "execution_count": 20,
   "id": "b213dd8a",
   "metadata": {},
   "outputs": [],
   "source": [
    "kurto_result_eemd = []\n",
    "plt.figure(figsize=(10, 30)) \n",
    "plt.subplots_adjust(hspace=0.4)\n",
    "cnt = 0\n",
    "for i in imfs:\n",
    "    kurto = kurtosis(i)\n",
    "    kurto_result_eemd.append(kurto)\n",
    "    \n",
    "    plt.subplot(len(imfs), 1, cnt+1)\n",
    "    plt.suptitle(\"Frq response of EEMD, Resp & PPG\",y=0.9)\n",
    "    plt.plot(freqs[0:30],100*np.abs(fft(i,N))[:30],'k')\n",
    "    plt.plot(freqs[0:30],0.1*np.abs(ff_filtresp)[:30],'b')\n",
    "    plt.plot(freqs[0:30],np.abs(ff_filtppg)[:30],'g')\n",
    "    plt.ylabel(\"IMF\"+str(cnt))\n",
    "    plt.legend(['EEMD', 'Resp', 'PPG'], loc='best')\n",
    "    plt.title(f'Kurtosis: {kurto}')\n",
    "    plt.xlim(0,0.65)\n",
    "    plt.grid()\n",
    "    #plt.savefig(os.path.join(result, 'IMFs of EEMD.jpg'))\n",
    "    cnt += 1\n",
    "\n",
    "min_kurto_index = kurto_result_eemd.index(min(kurto_result_eemd))\n",
    "print(f\"\\nIndex of minimum kurtosis is {min_kurto_index} & it's kurtosis value is {min(kurto_result_eemd)}\")"
   ]
  },
  {
   "cell_type": "code",
   "execution_count": 240,
   "id": "a6802037",
   "metadata": {},
   "outputs": [],
   "source": [
    "HR_sig=IMFs[4];\n",
    "ff_HR=np.abs(fft(HR_sig,N))*5\n",
    "\n",
    "peaks_index,_= signal.find_peaks(ff_HR[0:160])\n",
    "peaks=ff_HR[peaks_index]\n",
    "max_peak=max(peaks)\n",
    "index=np.where(peaks==max_peak)\n",
    "max_peak_index=peaks_index[index]\n",
    "HR_freq=freqs[max_peak_index]"
   ]
  },
  {
   "cell_type": "code",
   "execution_count": 19,
   "id": "b198f4b1",
   "metadata": {},
   "outputs": [],
   "source": [
    "plt.plot(freqs[0:160],ff_HR[0:160],'k')\n",
    "plt.plot(HR_freq,max_peak,'ro',MarkerSize=10)\n",
    "plt.xlabel('Freq (Hz)')\n",
    "plt.xlim(0.09,4)\n",
    "# plt.ylim(0,700)\n",
    "plt.ylabel('Amplitude')\n",
    "plt.grid()\n",
    "plt.title(f'Heart Rate Freq.: {HR_freq}')\n",
    "#plt.savefig(os.path.join(result,'Heart_rate.jpg'))\n",
    "\n",
    "print(\"HR frequency is =\"+str(HR_freq) +\"Hz\")"
   ]
  },
  {
   "cell_type": "code",
   "execution_count": 242,
   "id": "2c6b1c06",
   "metadata": {},
   "outputs": [],
   "source": [
    "sos_narrow= signal.butter(4, [HR_freq-0.6, HR_freq+0.6], 'bandpass', output='sos', fs=f_s)"
   ]
  },
  {
   "cell_type": "code",
   "execution_count": 18,
   "id": "86c6ba84",
   "metadata": {},
   "outputs": [],
   "source": [
    "N"
   ]
  },
  {
   "cell_type": "code",
   "execution_count": 17,
   "id": "c2360226",
   "metadata": {},
   "outputs": [],
   "source": [
    "plt.figure(figsize=(15, 10)) \n",
    "plt.subplots_adjust(hspace=1)\n",
    "\n",
    "AM_sig= signal.sosfiltfilt(sos_narrow, ppg1)\n",
    "plt.subplot(4,1,1)\n",
    "plt.plot(AM_sig,'g')\n",
    "plt.grid()\n",
    "plt.title(\"AM signal\")\n",
    "\n",
    "#upper envelope\n",
    "AM_peaks_index,_ = signal.find_peaks(AM_sig);\n",
    "AM_peaks=AM_sig[AM_peaks_index];\n",
    "plt.subplot(4,1,2)\n",
    "plt.plot(AM_sig)\n",
    "plt.plot(AM_peaks_index,AM_peaks,'rx')\n",
    "plt.grid()\n",
    "plt.title(\"Peaks found in AM signal\")\n",
    "\n",
    "#--------------------------------------------------------------\n",
    "#Resample the reduced samples of upper envelope peaks==>>> RIAV\n",
    "#--------------------------------------------------------------\n",
    "Resampled_AM=signal.resample(AM_peaks[0:len(AM_peaks)-3],574)\n",
    "ff_resample_am=np.abs(fft(Resampled_AM,N))\n",
    "plt.subplot(4,1,3)\n",
    "plt.plot(Resampled_AM,'k') ;\n",
    "plt.grid()\n",
    "plt.title(\"Resampled AM peaks= RIAV (Traditional) \")\n",
    "\n",
    "plt.subplot(4,1,4)\n",
    "plt.plot(freqs[0:60],9*ff_resample_am[0:60],'k') ;\n",
    "plt.plot(freqs[0:60],np.abs(ff_filtresp[0:60]),'b')\n",
    "plt.xlim(0.0,1.75)\n",
    "plt.ylim(0,700)\n",
    "plt.grid()\n",
    "plt.legend(['AM', 'Resp.'])\n",
    "plt.title(\"FFT Resampled AM peaks= RIAV (Traditional) \")"
   ]
  },
  {
   "cell_type": "code",
   "execution_count": 16,
   "id": "64374c75",
   "metadata": {},
   "outputs": [],
   "source": [
    "p=np.max(ppg1)\n",
    "q=np.min(ppg1)\n",
    "HR_sig=IMFs[4]\n",
    "\n",
    "#upper envelope\n",
    "up_peaks_location,_ = signal.find_peaks(HR_sig);\n",
    "up_peaks=HR_sig[up_peaks_location];\n",
    "\n",
    "Rpeak_dist=np.zeros((len(up_peaks)-1, 1))\n",
    "for i in range (len(up_peaks)-1) :\n",
    "   Rpeak_dist[i,:]=up_peaks[i+1]-up_peaks[i]\n",
    "\n",
    "\n",
    "RIFV=signal.resample(Rpeak_dist[0:len(Rpeak_dist)-2],N)\n",
    "RIFV=np.array(RIFV)\n",
    "\n",
    "plt.figure(figsize=(15, 10)) \n",
    "plt.subplots_adjust(hspace=1)\n",
    "\n",
    "plt.subplot(3,1,1)\n",
    "plt.plot(HR_sig)\n",
    "plt.plot(up_peaks_location,up_peaks,'rx')\n",
    "plt.grid()\n",
    "plt.title(\"Systolic Peaks found\")\n",
    "\n",
    "plt.subplot(3,1,2)\n",
    "plt.plot(Rpeak_dist)\n",
    "plt.plot(Rpeak_dist,'ro')\n",
    "plt.grid()\n",
    "plt.title(\"Systolic peak distance\")\n",
    "\n",
    "plt.subplot(3,1,3)\n",
    "plt.plot(RIFV,'k') ;\n",
    "plt.title('Resampled Systolic peaks') \n",
    "plt.grid()"
   ]
  },
  {
   "cell_type": "code",
   "execution_count": 15,
   "id": "b03a9c8c",
   "metadata": {},
   "outputs": [],
   "source": [
    "rifv=RIFV.reshape(N,)\n",
    "ff_rifv=np.abs(fft(rifv,N))\n",
    "plt.plot(freqs[0:100],np.abs(ff_filtresp[0:100]),'b')\n",
    "plt.plot(freqs[0:100],19*ff_rifv[0:100],'k')\n",
    "plt.xlim(0.00,2)"
   ]
  },
  {
   "cell_type": "code",
   "execution_count": 14,
   "id": "024d5f3c",
   "metadata": {},
   "outputs": [],
   "source": [
    "riav_resp_filt=signal.sosfiltfilt(sos_resp, Resampled_AM)\n",
    "K = 11\n",
    "alpha = 2500       # moderate bandwidth constraint  \n",
    "tau = 0            # noise-tolerance (no strict fidelity enforcement)               # 3 modes  \n",
    "DC = 0             # no DC part imposed  \n",
    "init = 1           # initialize omegas uniformly  \n",
    "tol = 1e-7         # tolerance\n",
    "\n",
    "u_riav, u_riav_hat, omega = VMD(riav_resp_filt, alpha, tau, K, DC, init, tol)  \n",
    "\n",
    "cnt= 0\n",
    "plt.figure(figsize=(10, 30)) \n",
    "plt.subplots_adjust(hspace=0.4)\n",
    "\n",
    "modes_riav = u_riav\n",
    "\n",
    "kurto_result_riav = []\n",
    "\n",
    "for i in modes_riav :\n",
    "    kurto = kurtosis(i)\n",
    "    kurto_result_riav.append(kurto)\n",
    "    \n",
    "    plt.subplot(len(modes_riav),1,cnt+1)\n",
    "    plt.plot(freqs[0:30],100*np.abs(fft(i,N))[:30],'k')\n",
    "    plt.plot(freqs[0:30],0.5*np.abs(ff_filtresp)[:30],'b')\n",
    "    plt.plot(freqs[0:30],np.abs(ff_filtppg)[:30],'g')\n",
    "    plt.ylabel(\"IMF\"+str(cnt))\n",
    "    plt.suptitle(\"Frq response of VMD of RIAV vs. Resp\",y=0.9)\n",
    "    plt.legend(['VMD', 'Resp', 'PPG'], loc='best')\n",
    "    plt.title(f'RIAV Kurtosis: {kurto}')\n",
    "    plt.grid()\n",
    "    cnt=cnt+1\n",
    "    #plt.savefig(os.path.join(result, f'RIAV.jpg'))\n",
    "    \n",
    "min_kurto_index = kurto_result_riav.index(min(kurto_result_riav))\n",
    "print(f\"\\nIndex of minimum kurtosis is {min_kurto_index} & it's kurtosis value is {min(kurto_result_riav)}\")"
   ]
  },
  {
   "cell_type": "code",
   "execution_count": 250,
   "id": "c4379880",
   "metadata": {},
   "outputs": [],
   "source": [
    "dominant_peak_sig = modes_riav[1]\n",
    "dominant_peak_sig_fft = np.abs(fft(dominant_peak_sig, N))\n",
    "peaks_index,_= signal.find_peaks(dominant_peak_sig_fft[0:60])\n",
    "peaks=dominant_peak_sig_fft[peaks_index]\n",
    "max_peak=max(peaks)\n",
    "index=np.where(peaks==max_peak)\n",
    "max_peak_index=peaks_index[index]\n",
    "RR_freq=freqs[max_peak_index]"
   ]
  },
  {
   "cell_type": "code",
   "execution_count": 13,
   "id": "b592e7f9",
   "metadata": {},
   "outputs": [],
   "source": [
    "RR_freq"
   ]
  },
  {
   "cell_type": "code",
   "execution_count": null,
   "id": "c1356aea",
   "metadata": {},
   "outputs": [],
   "source": []
  },
  {
   "cell_type": "code",
   "execution_count": null,
   "id": "2f48d724",
   "metadata": {},
   "outputs": [],
   "source": []
  }
 ],
 "metadata": {
  "kernelspec": {
   "display_name": "Python 3 (ipykernel)",
   "language": "python",
   "name": "python3"
  },
  "language_info": {
   "codemirror_mode": {
    "name": "ipython",
    "version": 3
   },
   "file_extension": ".py",
   "mimetype": "text/x-python",
   "name": "python",
   "nbconvert_exporter": "python",
   "pygments_lexer": "ipython3",
   "version": "3.9.7"
  }
 },
 "nbformat": 4,
 "nbformat_minor": 5
}
